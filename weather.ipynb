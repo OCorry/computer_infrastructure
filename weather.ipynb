{
 "cells": [
  {
   "cell_type": "markdown",
   "metadata": {},
   "source": [
    "# **<span style=\"color:blue\">Introduction</span>**\n",
    "***\n",
    "\n",
    "This notebook contains a brief report or explanation of how I completed tasks 1 to 7 which are part of the completion of Module *Computer Infrastructure 2024*.\n",
    "\n",
    "I have used code which was provided throughout lectures by my lecturer Ian McLoughlin. I have also referenced all other sources that I have used for any other code I have adapted and any other research I have done throughout the notebook. These references are also provided in the references section at the end of this notebook.\n",
    "\n",
    "Before commencing, I have first imported any Libraries that I will need for the successful running and completion of the notebook."
   ]
  },
  {
   "cell_type": "markdown",
   "metadata": {},
   "source": [
    "## <ins><span style=\"color:blue\">Importing Libraries</span></ins>\n",
    "\n",
    "Using a *code* cell below, I have imported all of the relevant Libraries. Libraries are a collection of modules which are bundles of code that can be used again and again. This makes programming easier as the code doesn't need to be written out by the programmer as they are already available [GeeksforGeeks](https://www.geeksforgeeks.org/libraries-in-python/)<sup>1</sup>. Importing all of the libraries at the beginning of the notebook ensures that all of the code throughout the notebook runs smoothly and no errors are thrown."
   ]
  },
  {
   "cell_type": "code",
   "execution_count": 1,
   "metadata": {},
   "outputs": [],
   "source": [
    "# Importing Libraries\n",
    "\n",
    "# For working With Dataframes\n",
    "import pandas as pd"
   ]
  },
  {
   "cell_type": "markdown",
   "metadata": {},
   "source": [
    "</br>\n",
    "\n",
    "## <ins><span style=\"color:blue\">Task 1: Create Directory Structure </span></ins>\n",
    "\n",
    "> *Using the command line, create a directory (that is, a folder) named `data` at the root of your repository. Inside `data`, create two subdirectories: `timestamps` and `weather`.*"
   ]
  },
  {
   "cell_type": "markdown",
   "metadata": {},
   "source": [
    "##### <ins>Creating the Directory Structure</ins>\n",
    "\n",
    "In the root of my repository titled [computer_infrastructure_2024](https://github.com/OCorry/computer_infrastructure_2024), on the Linux command line, I have created a directory (folder) called [data](https://github.com/OCorry/computer_infrastructure_2024/tree/main/data) and within that data directory I have created two subdirectories called [timestamps](https://github.com/OCorry/computer_infrastructure_2024/tree/main/data/timestamps) and [weather](https://github.com/OCorry/computer_infrastructure_2024/tree/main/data/weather). \n",
    "\n",
    "To do this, I have adapted code from [Sandra Henry Stocker, (2023)](https://www.networkworld.com/article/971782/creating-and-removing-directory-structures-on-linux.html#:~:text=Each%20group%20of%20directory%20names,being%20created%20at%20that%20level.&text=You%20can%20add%20as%20many,specifications%20to%20the%20mkdir%20command.)<sup>2</sup> and used the command: `mkdir -pv data/{timestamps,weather}`.\n",
    "\n",
    "\n",
    " The use of the `-p` after the `mkdir` allowed me to create the [hierarchy](https://en.wikipedia.org/wiki/Hierarchical_file_system)<sup>3</sup> of the parent directory **data** and the the two subdirectories **timestamps** and **weather** all at once rather than having to create the **data** directory first and then create the two subdirectories within it. This is a much more efficient approach, particularly if one is creating a large hierarchy of subdirectories nested within other directories. The `-v` is a verbose option which means that the directories that have been created will display in the terminal so the user can see the directories were created correctly.\n",
    "\n",
    " I sourced code from [Zaira Hira, FreeCodeCamp (2023)](https://www.freecodecamp.org/news/diagrams-as-code-with-mermaid-github-and-vs-code/)<sup>4</sup>, [jojozhuang](https://jojozhuang.github.io/tutorial/mermaid-cheat-sheet/)<sup>5</sup>, [marketplace.visualstudio](https://marketplace.visualstudio.com/items?itemName=CatBraaain.mermaid-comment#:~:text=Comment%20with%20%60%25%25%60%20for,lines%2C%20with%20a%20single%20command.&text=Launch%20VS%20Code%20Quick%20Open,following%20command%2C%20and%20press%20enter)<sup>6</sup> and [github.com (2015)](https://github.com/mermaid-js/mermaid/issues/213)<sup>7</sup> to create a visual representation of a hierarchy of directories and files. This visual representation can be found [here](./directory_hierarchy.md). The root directory **A** is the top-most tier of the of the hierarchy and is denoted by a `/` [Wikipedia, (2024)](https://en.wikipedia.org/wiki/Root_directory)<sup>8</sup>. From the root directory then, stems directory **B** and directory **C** which are subdirectories of the root directory **A**. Directory **B** & **C** are parent directories to directory **D** & **E** respectively but also contain files **A** & **B** respectively. Directories **D** & **E** are subdirectories of **B** & **C** respectively. Directory **D** contains two files called file **C** & file **D**. Directory **E** contains one file called file **E**.\n",
    "\n",
    "\n",
    " ##### <ins>Pushing the Directory Structure to Github</ins>\n",
    "\n",
    " When it came to committing my changes to my Github repository and pushing them to Github, my changes would not push. This is because Git only tracks files and does not track empty directories [Foster. G (2024)](https://graphite.dev/guides/add-empty-dir)<sup>9</sup>, [GeeksforGeeks (2023)](https://www.geeksforgeeks.org/how-to-add-an-empty-directory-to-a-git-repository/)<sup>10</sup>. As a result, if a directory is created and a file is not inputted into it, the directory will just be ignores and it will not push up to Github.\n",
    "\n",
    " To overcome this, I found that creating a `.gitkeep` file in the **timestamps** and the **weather** directories [Parr. K (2021)](https://www.freecodecamp.org/news/what-is-gitkeep/)<sup>11</sup> would allow me to push up my changes to my Github repository. I used `touch .gitkeep` command to create the the *.gitkeep* file in each of the directories [GeeksforGeeks (2024)](https://www.geeksforgeeks.org/touch-command-in-linux-with-examples/#1-how-to-create-an-empty-files-by-using-touch-command-in-linux)<sup>12</sup>. This was just a temporary measure just to allow me to complete task 1. I later removed these files from the directories again once I had added other permanent files to them in following tasks. I did this by using the `rm .gitkeep` command [GeeksforGeeks (2024)](https://www.geeksforgeeks.org/rm-command-linux-examples/)<sup>13</sup>."
   ]
  },
  {
   "cell_type": "markdown",
   "metadata": {},
   "source": [
    "</br>\n",
    "\n",
    "## <ins><span style=\"color:blue\">Task 2: Timestamps</span></ins>\n",
    "\n",
    "> *Navigate to the `data/timestamps` directory. Use the `date` command to output the current date and time, appending the output to a file named `now.txt`. Make sure to use the `>>` operator to append (not overwrite) the file. Repeat this step ten times, then use the `more` command to verify that `now.txt` has the expected content.*"
   ]
  },
  {
   "cell_type": "markdown",
   "metadata": {},
   "source": [
    "##### <ins>Navigating through the Directory Hierarchy</ins>\n",
    "\n",
    "In task one, I briefly outlined the process of creating a new file `.gitkeep` in my two directories; `timestamps` & `weather` but didn't go into detail as to how I navigated the directory hierarchy to find myself in said directories. Below, I explain how I have navigated through the directories using the Linux [Command Line Interface](https://en.wikipedia.org/wiki/Command-line_interface)<sup>14</sup>.\n",
    "\n",
    "The `cd` ([change directory](https://www.geeksforgeeks.org/cd-command-in-linux-with-examples/)) command is used to move up and down the directory hierarchy. From the root directory (workspaces/computer_infrastructure_2024), in the command line i enter `cd data/timestamps/`to move into the `timestamps` directory. \n",
    "\n",
    "##### <ins> - The **<span style=\"color:blue\">date</span>** command</ins>\n",
    "\n",
    "Once in the `timestamps` directory, in the command line, I have used the [date](https://www.geeksforgeeks.org/date-command-linux-examples/)<sup>15</sup> command to output the current date and time in the command line (terminal). This prints the date and time in the format: abbreviated day, abbreviated month name, then day of the month and the current time. For example `Mon Nov 20 21:37:51 UTC 2024`. The output also states that the time is [UTC](https://en.wikipedia.org/wiki/Coordinated_Universal_Time)<sup>16*</sup>. \n",
    "\n",
    "##### <ins> - Appending the output of the **<span style=\"color:blue\">date</span>** command to a new file **<span style=\"color:blue\"> now.txt</span>**</ins>\n",
    "Rather than just showing the output of the `date` command in the command line, to append the output of the `date` command to the file `now.txt`, I have used the command `date >> now.txt`. The `date` part of the command generates the date as discussed above. The append redirect operator `>>` redirects the output of the `date` command into a new file called `now.txt`. If the `now.txt` file doesn't already exist, the command creates the new file. I have repeated this command 10 times in total and the 10 outputs are saved to the `now.txt` file. It is very important to use the `>>` here rather than a single redirect `>`. If the `>` is used, then it will overwrite all of the data that was in the file prior to running the command with the `>` operator [Damon Garn (2021)](https://www.redhat.com/en/blog/redirect-operators-bash#:~:text=The%20append%20%3E%3E%20operator%20adds%20the,uname%20%2Dr%20to%20the%20specifications.)<sup>17</sup>.\n",
    "\n",
    "\n",
    "\n",
    "##### <ins> - The **<span style=\"color:blue\">more</span>** command</ins>\n",
    "To check that the `now.txt` file has the expected content of 10 time and date outputs, I have used the command `more now.txt`. This command shows the contents of the file in the command line. The `more` command filters through the file one screen full at a time. If the file is a lengthy one, pressing the space bar on the keyboard will open the next screen of content. The amount of content per screen is dependent on how big the user has made their command line interface [GeeksforGeeks](https://www.geeksforgeeks.org/more-command-in-linux-with-examples/)<sup>18</sup>.\n",
    "\n",
    "\n",
    "\n",
    "###### *The Github Codespaces Virtual Machine works on UTC time and as a result, it will output UTC time regardless of where in the world (what timezone) the user is in. If however, the user was using their own machine and were not located in UTC timezone, the command `date -u` can be used to generate UTC time and date. Using UTC is preferred practice over using local time as it avoids ambiguity and complexity associated with time zones [Basant Sahu (2023)](https://www.linkedin.com/pulse/best-practices-handling-date-time-software-development-basant-sahu/)<sup>19</sup> as it is a set time and is not affected by any changes in local time zones [Dan Chaffelson (2024)](https://www.tinybird.co/blog-posts/database-timestamps-timezones)<sup>20</sup>. Using UTC means that users from different time zones are working on a common ground in terms of time when working with data.\n"
   ]
  },
  {
   "cell_type": "markdown",
   "metadata": {},
   "source": [
    "</br>\n",
    "\n",
    "## <ins><span style=\"color:blue\">Task 3: Formatting Timestamps</span></ins>\n",
    "> *Run the date command again, but this time format the output using YYYYmmdd_HHMMSS (e.g., 20261114_130003 for 1:00:03 PM on November 14, 2026). Refer to the date man page (using man date) for more formatting options. (Press q to exit the man page). Append the formatted output to a file named formatted.txt.*"
   ]
  },
  {
   "cell_type": "markdown",
   "metadata": {},
   "source": [
    "The aim of this task aims to run the same `date` command that was run in *Task 2* but this time applying specified format to the command. The format will be in the form of **YYYYmmdd_HHMMSS**. \n",
    "\n",
    "##### <ins>Applying the Format Specifier</ins>\n",
    "\n",
    "To create this specified output the command I have used is `date +\"%Y%m%d_%H%M%S\"`. The output of the command then would be for example `20241119_212332` where the `%Y` is replaced by the current year (2024), the `%m` is replaced by the current month (11), `%d` with the current date (19), `%H` with the current hour (21hrs), `%M` with the current minute (23) and `%S` with the current second (32). The `_` remains as it is because this is just a separator to make the output easier to interpret. [phoenixNap Global Services (2024)](https://phoenixnap.com/kb/linux-date-command)<sup>21</sup>. While this date format is not ideal for humans to read, it is a much better format for computers to read than that of the output in *Task 2*.\n",
    "\n",
    "Further detail on *formatting* and *options* for the `date` command can be found by simply inputting the command `man date` in the command line.\n",
    "\n",
    "\n",
    "##### <ins>Appending the output to a new file <span style=\"color:blue\">formatted.txt</span></ins>. \n",
    "Like above in task two, appending the output of the command to a file has been achieved by using the redirect operator `>>`. The full command for this is `date +\"%Y%m%d_%H%M%S\" >> formatted.txt`. If the filename does not already exist in the current working directory `data/timestamps`, then the redirect operator creates a new file with the name `formatted.txt` and appends the current date and time to this file in the format **YYYYmmdd_HHMMSS**. Each time this command is run, the current date and time will be added to the file.\n",
    "\n",
    "Again, it is important use the `>>` rather than a single redirect `>` if the user is looking to append to a file. If the `>` is used then all of the data that already in the file will be overwritten with the latest command. "
   ]
  },
  {
   "cell_type": "markdown",
   "metadata": {},
   "source": [
    "</br>\n",
    "\n",
    "## <ins><span style=\"color:blue\">Task 4: Create Timestamped Files</ins></span>\n",
    "\n",
    ">*Use the touch command to create an empty file with a name in the YYYYmmdd_HHMMSS.txt format. You can achieve this by embedding your date command in backticks ` into the touch command. You should no longer use redirection (>>) in this step.*"
   ]
  },
  {
   "cell_type": "markdown",
   "metadata": {},
   "source": [
    "The goal of this task is to create a new `.txt` file in the `/date/timestamps` directory but rather than appending the output of the `formatted date` command into the file, this time the output of the **formatted date** command is used to give the new file a name that is the timestamp. To achieve this, the following command is run:\n",
    "\n",
    "~~~bash\n",
    "touch `date +\"%Y%m%d_%H%M%S.txt\"`\n",
    "~~~\n",
    "\n",
    "#### <ins>Using <span style=\"color:blue\">Command Substitution Operator</span></ins>\n",
    "\n",
    "As the `touch` command is going to be used in front of **formatted date** command, the **formatted date** command is placed within the ``backtick operator`` so the **formatted date** command becomes: `` `date +\"%Y%m%d_%H%M%S\"` ``. The process of putting the command inside of the backticks is known as **command substitution** whereby the output of the command (in this case: `` `date +\"%Y%m%d_%H%M%S\"` ``) replaces the command itself [geeksforgeeks (2022)](https://www.geeksforgeeks.org/shell-scripting-command-substitution/)<sup>22</sup>, [Linux Leech (2014)](https://www.youtube.com/watch?v=VOOeXV4HYSA)<sup>23</sup> and subsequently, the output of the command can be used as an agrument or parameter for another command.\n",
    "\n",
    "#### <ins>Adding the <span style=\"color:blue\">.txt</span> file extension</ins>\n",
    "\n",
    "The new file had to be given a file extension `.txt`, so after the `` `date +\"%Y%m%d_%H%M%S\"` `` command (but still within the backticks), a file extension `.txt` is added to the command. So now the command becomes `` `date +\"%Y%m%d_%H%M%S\".txt` ``\n",
    "\n",
    "#### <ins>The <span style=\"color:blue\">touch</span> command</ins>\n",
    "\n",
    "The `touch` command is then used to create the new empty file [GeeksforGeeks (2024)](https://www.geeksforgeeks.org/touch-command-in-linux-with-examples/)<sup>24</sup>\n",
    "\n",
    "The output of the `` `date +\"%Y%m%d_%H%M%S\".txt` `` command above is passed as an argument (or a parameter) in the `touch` command resulting in a new file with the name that is the current timestamp. \n",
    "\n",
    "#### <ins> An alternative to using <span style=\"color:blue\">backticks </span> around the <span style=\"color:blue\">date</span> command</ins>\n",
    "\n",
    "While carrying out my research, I found an alternative to using the backticks is to use `$parentheses` `$()`. Using this option, all the code in within the parentheses is run first and then the output of that command is used as an argument for the other command. [stackoverflow (2014)](https://stackoverflow.com/questions/9405478/command-substitution-backticks-or-dollar-sign-paren-enclosed)<sup>25</sup> and [Roberto Nozaki (2021)](https://www.redhat.com/en/blog/backtick-operator-vs-parens)<sup>26</sup>. According to these sources, the `$parenthese` is preferred to the `backtick operator`\n",
    "\n",
    "In the case of this task, the complete command using the `$()` would be as follows and achieves the same result:\n",
    "\n",
    "~~~bash\n",
    "touch $(date +\"%Y%m%d_%H%M%S.txt\")\n",
    "~~~\n",
    "\n",
    "\n"
   ]
  },
  {
   "cell_type": "markdown",
   "metadata": {},
   "source": [
    "</br>\n",
    "\n",
    "## </ins><span style=\"color:blue\">Task 5: Download Today's Weather Data</span></ins>\n",
    "\n",
    ">*Change to the data/weather directory. Download the latest weather data for the Athenry weather station from Met Eireann using wget. Use the -O <filename> option to save the file as weather.json. The data can be found at this URL: https://prodapi.metweb.ie/observations/athenry/today.*"
   ]
  },
  {
   "cell_type": "markdown",
   "metadata": {},
   "source": [
    "This task aims to download the latest weather data from Met Éireann for a particular area, Athenry. The URL above looks similar to a normal website URL. However, it contains an API (Application Programming Interface) which allows the user to download the data using the command line interface. \n",
    "\n",
    "#### <ins> What is an API</ins>\n",
    "Before commencing this task, I got more of an insight as to how APIs work from [Codú](https://www.youtube.com/watch?v=Td0nwrNzVv4)<sup>27</sup> and [Exponent](https://www.youtube.com/watch?v=bxuYDT-BWaI)<sup>28</sup>.\n",
    "\n",
    "An API is a way for applications or systems to communicate and share data or software to another application or system. They allow a user to interact with databases or another system or application. The data or information exchanged between the user and the server as part of the API call is known as *payload* and the main two formats in which the data is returned to the user are by JSON (Javascript Object Notation) or XML (Extensible Markup Language)  [atatus (2023)](https://www.atatus.com/blog/guide-to-api-data-formats-json-xml-plain-text-and-binary/)<sup>29</sup>.\n",
    "\n",
    "APIs restrict the amount of data that is made available to the system requesting the data for security reasons.\n",
    "\n",
    "The user requests the information via the API which is part of a [URL(Uniform Resource Locator)](https://en.wikipedia.org/wiki/URL)<sup>30</sup> and is typically requested through an application called HTTP [(Hypertext Transfer Protocol)](https://www.cloudflare.com/learning/ddos/glossary/hypertext-transfer-protocol-http/)<sup>31</sup>, which uses a [protocol](https://www.cloudflare.com/learning/network-layer/what-is-a-protocol/)<sup>32</sup> or a set of rules used for transferring the information from system to system. Most **HTTP** applications now have an **S** at the end of them which is an extension to ensure a secure communication when transferring the information and data [Wikipedia (2024)](https://en.wikipedia.org/wiki/HTTPS#:~:text=This%20is%20the%20latest%20accepted,Hypertext%20Transfer%20Protocol%20(HTTP).)<sup>33</sup>. The API response then is returned to the user with the desired data/information, if the request from the user is successful. All of this process is done behind the scenes which is known as abstraction [trai.ai (2024)](https://tray.ai/blog/how-do-apis-work)<sup>34</sup>.\n",
    "\n",
    "##### <ins>- Unsuccessful API requests</ins>\n",
    "\n",
    "Sometimes, the users request may not be successful. The most common error would be if the URL was incorrect or the page had been moved or deleted. In this case, HTTP would throw an error code *404 Not Found* [w3schools](https://www.w3schools.com/tags/ref_httpmessages.asp)<sup>35</sup>.\n",
    "\n",
    "##### <ins>- API - User Authentication </ins>\n",
    "Some APIs require user authorisation or authentication to access it for the security and privacy of data [Postman (2024)](https://www.postman.com/api-platform/api-authentication/#:~:text=There%20are%20many%20types%20of,the%20API%20is%20not%20misused.)<sup>36</sup>, [frontegg (2023)](https://frontegg.com/guides/api-authentication-api-authorization#:~:text=Data%20security%3A%20By%20requiring%20authentication,access%2C%20theft%2C%20or%20misuse.)<sup>37</sup>. If the user does not have authorisation or authentication, the API response comes back with an error *401 Unauthorized* or *403 Forbidden* [mdn web docs_](https://developer.mozilla.org/en-US/docs/Web/HTTP/Status)<sup>38</sup>."
   ]
  },
  {
   "cell_type": "markdown",
   "metadata": {},
   "source": [
    "#### <ins>Downloading the API using `wget`command into the *weather* directory</ins>\n",
    "\n",
    "##### <ins> - Navigating the the correct directory</ins>\n",
    "Before running the `wget` command, first I have navigated to the directory that I want the weather data to be downloaded into. Again, I have done this by using the `cd` (change directory) command [GeeksforGeeks (2024)](https://www.geeksforgeeks.org/cd-command-in-linux-with-examples/)<sup>39</sup>. If I was navigating down the hierarchy from my root directory *computer_infrastructure_2024*, the command would be as follows: \n",
    "~~~bash\n",
    "cd data/weather\n",
    "~~~\n",
    "The above command brings the user straight into the `weather` subdirectory within the `data` directory.\n",
    "\n",
    "However, if I was in the `data/timestamps` directory and wanted to navigate to the `data/weather` directory, I firstly would have to move up to the parent directory `data` using the following command:\n",
    "~~~bash\n",
    "cd ..\n",
    "~~~\n",
    "\n",
    "Then once in the `data` directory, I would use the following command to navigate into the subdirectory, `weather`:\n",
    "~~~bash\n",
    "cd weather\n",
    "~~~ \n",
    "\n",
    "##### <ins> - Downloading the data</ins>\n",
    "Once in the correct directory, the `wget` command is used to download the data. The `wget` command is a non-interactive downloader which allows the user to download files from a server even when the user is not logged on to the system and it can can also work away in the background [GeeksforGeeks(2024)](https://www.geeksforgeeks.org/wget-command-in-linux-unix/)<sup>40</sup>. In the terminal, the user can run `man wget` which opens up a manual on the `wget` command to get more information on options that can be used on it.\n",
    "\n",
    "The basic `wget` command to download the Athenry weather data is as follows:\n",
    "~~~bash\n",
    "wget https://prodapi.metweb.ie/observations/athenry/today.\n",
    "~~~\n",
    "\n",
    "Using the above command, the data is downloaded into the present working directory, `weather` and the data is in [JSON](https://www.w3schools.com/js/js_json_syntax.asp)<sup>41</sup> format. JSON is a list or an array of data which is denoted by square brackets. Inside the square brackets, there are curly braces which denote objects or dictionaries. Within the curly braces, there are \"name:value\" pairs and each of these is separated by a comma. The JSON data is outputted in the file on one single line which is not very easy for humans to read. To change the format of this to make is easier to read, the user can type `format document` in the command pallet in VS code and this will display the data vertically [GeeksforGeeks (2024)](https://www.geeksforgeeks.org/how-to-format-json-in-vscode/)<sup>42</sup>, dictionary by dictionary. The file is saved with a default name of *today* as this is the endpoint of the API. This is not the best name for the file, as when the command is run numerous times in the present working directory, it will save the files as *today1*, *today2* and so on. \n",
    "\n",
    "##### <ins> - Output that is sent to the command line</ins>\n",
    "While the data is saved in a file called `today` in the `weather` directory, more information on the status of the request by the user is also outputted in the terminal by default. Below, is an example of the information outputted to the terminal:\n",
    "\n",
    "![output of wget command](./img/wget.png)\n",
    "\n",
    "The above output shows the process taken by the `wget` command to request the data from the Met Éireann website and shows the IP address of the API being used. A successful connection is made with the the source of the data which is confirmed by the [200 OK](https://www.w3schools.com/tags/ref_httpmessages.asp)<sup>43</sup> HTTP response code."
   ]
  },
  {
   "cell_type": "markdown",
   "metadata": {},
   "source": [
    "#### <ins>Giving the new JSON file a name</ins>\n",
    "As I mentioned above, the new file containing the data in JSON format is saved with a name *today* by default as this is the endpoint of the API being used The next step of this task is adapt the code so that when the file is created, it has a name that is a timestamp and also is in the format of a .`json` file. The command below shows the complete command to download the data using `wget` on the Met Éireann's API. \n",
    "\n",
    "~~~bash\n",
    "wget -O `date +\"%Y%m%d_%H%M%S_athenry.json\"` https://prodapi.metweb.ie/observations/athenry/today.\n",
    "~~~\n",
    "**or**\n",
    "~~~bash\n",
    "wget -O $(date +\"%Y%m%d_%H%M%S_athenry_json\") https://prodapi.metweb.ie/observations/athenry/today.\n",
    "~~~\n",
    "\n",
    "Again, similar to *Task 4* above, the `date +\"%Y%m%d_%H%M%S_athenry_json\"` command must be surrounded by either `backticks (``)` or `$Parentheses $()`so that the date command is run first. The output of the date command is then inputted to the the `-O` command which along with `wget` command, outputs the data from the API into a file named with a timestamp. \n",
    "\n",
    "Giving the files a timestamped name means that if the command is run several times in the present working directory, the files save in the order of time they were executed (which corresponds to being in alphabetical order). The first run file is at the start (or at the top) and the last run file is at the end (or the bottom) as the timestamp starts with the year (2024) which is the biggest date increment and ends with the second which is the smallest increment. This makes for easier sourcing of files and also makes it easier when analysing the data within the timestamped files. "
   ]
  },
  {
   "cell_type": "markdown",
   "metadata": {},
   "source": [
    "## <span style=\"color:blue\">References</span>\n",
    "***\n",
    "\n",
    "##### Task 1\n",
    "1. GeeksforGeeks. Libraries in Python. 01 Aug, 2024 </br> https://www.geeksforgeeks.org/libraries-in-python/\n",
    "2. Sandra Henry Stocker. Netwrok World. Creating and removing directory structures on Linux (2023) </br> https://www.networkworld.com/article/971782/creating-and-removing-directory-structures-on-linux.html#:~:text=Each%20group%20of%20directory%20names,being%20created%20at%20that%20level.&text=You%20can%20add%20as%20many,specifications%20to%20the%20mkdir%20command.\n",
    "3. Wikipedia Hierarchical file system (2024) </br> https://en.wikipedia.org/wiki/Hierarchical_file_system\n",
    "4. Zaira Hira. How to Create Diagrams as Code with Mermaid, GitHub, and Visual Studio Code. (2023) </br> https://www.freecodecamp.org/news/diagrams-as-code-with-mermaid-github-and-vs-code/\n",
    "5. jojozhuang. 9724. Mermaid Cheat Sheet (2021) </br> https://jojozhuang.github.io/tutorial/mermaid-cheat-sheet/\n",
    "6. Visual Studio| Marketplace. Mermaid Comment (2024) </br> https://marketplace.visualstudio.com/items?itemName=CatBraaain.mermaid-comment#:~:text=Comment%20with%20%60%25%25%60%20for,lines%2C%20with%20a%20single%20command.&text=Launch%20VS%20Code%20Quick%20Open,following%20command%2C%20and%20press%20enter\n",
    "7. Github.com. Brackets in a node with text? (2015) </br> https://github.com/mermaid-js/mermaid/issues/213\n",
    "8. Wikipedia. Root Directory (2024). </br> https://en.wikipedia.org/wiki/Root_directory\n",
    "9. Foster. G. Graphite. How to add an empty directory in git (2024) </br> https://graphite.dev/guides/add-empty-dir\n",
    "10. GeeksforGeeks. How to Add an Empty Directory to a Git Repository? (2023) </br> https://www.geeksforgeeks.org/how-to-add-an-empty-directory-to-a-git-repository/\n",
    "11. Parr. K. freeCodeCamp. What is .gitkeep? How to Track and Push Empty Folders in Git (2021) </br> https://www.freecodecamp.org/news/what-is-gitkeep/\n",
    "12. GeeksforGeeks. How to Create an Empty File in Linux | Touch Command (2024) </br> https://www.geeksforgeeks.org/touch-command-in-linux-with-examples/\n",
    "</br>\n",
    "\n",
    "##### Task 3\n",
    "13. GeeksforGeeks. rm command in Linux with examples (2024) </br> https://www.geeksforgeeks.org/rm-command-linux-examples/\n",
    "</br>\n",
    "\n",
    "##### Task 2\n",
    "14. Wikipedia. Command-line interface (2024) </br> https://en.wikipedia.org/wiki/Command-line_interface\n",
    "15. GeeksforGeeks. How to Display and Set Date and Time in Linux | date Command (2024) </br> https://www.geeksforgeeks.org/date-command-linux-examples/\n",
    "16. Wikipedia. Coordinated Universal Time (2024) </br> https://en.wikipedia.org/wiki/Coordinated_Universal_Time   \n",
    "17. Damon Garn. Red Hat Blog. Five ways to use redirect operators in Bash (2021) </br> https://www.redhat.com/en/blog/redirect-operators-bash#:~:text=The%20append%20%3E%3E%20operator%20adds%20the,uname%20%2Dr%20to%20the%20specifications.\n",
    "18. GeeksforGeeks more command in Linux with Examples (2024) </br> https://www.geeksforgeeks.org/more-command-in-linux-with-examples/\n",
    "19. Basant Sahu linkedin. Best Practices for Handling Date and Time in Software Development (2023) </br> https://www.linkedin.com/pulse/best-practices-handling-date-time-software-development-basant-sahu/\n",
    "20. Dan Chaffelson. tinybird. Best practices for timestamps and time zones in databases (2024) </br> https://www.tinybird.co/blog-posts/database-timestamps-timezones\n",
    "21. phoenixnap. Global IT Services. Linux Date Command: How to Set, Change, Format Date in Linux. (2024) </br> https://phoenixnap.com/kb/linux-date-command\n",
    "</br>\n",
    "\n",
    "##### Task 4\n",
    "22. GeeksforGeeks. Shell Scripting – Command Substitution (2022) </br> https://www.geeksforgeeks.org/shell-scripting-command-substitution/\n",
    "23. Linux Leech. Backticks Command Substitution in Linux (Youtube Video). (2014) </br> https://www.youtube.com/watch?v=VOOeXV4HYSA\n",
    "24. GeeksforGeeks. How to Create an Empty File in Linux | Touch Command (2024) </br> https://www.geeksforgeeks.org/touch-command-in-linux-with-examples/\n",
    "25. Stackoverflow. Command substitution: backticks or dollar sign / paren enclosed? [duplicate]. (2014) </br> https://stackoverflow.com/questions/9405478/command-substitution-backticks-or-dollar-sign-paren-enclosed\n",
    "26. Roberto Nozaki. Red Hat. Bash scripting: Moving from backtick operator to $ parentheses (2021) </br> https://www.redhat.com/en/blog/backtick-operator-vs-parens\n",
    "</br>\n",
    "\n",
    "##### Task 5\n",
    "27. Codú. What Is an API? Explained in Plain English (Youtube video)</br> (https://www.youtube.com/watch?v=Td0nwrNzVv4)\n",
    "28. Exponent. APIs Explained (in 4 Minutes). (Youtube video)</br>https://www.youtube.com/watch?v=bxuYDT-BWaI\n",
    "29. atatus. A Beginner's Guide to API Data Formats: JSON, XML, Plain Text, and Binary (2023)</br>https://www.atatus.com/blog/guide-to-api-data-formats-json-xml-plain-text-and-binary/\n",
    "30. Wikipedia. URL (2024) </br> https://en.wikipedia.org/wiki/URL\n",
    "31. Cloudflare. What is HTTP? (2024)</br> https://www.cloudflare.com/learning/ddos/glossary/hypertext-transfer-protocol-http/\n",
    "32. Cloudflare. What is a protocol? | Network protocol definition. (2024) </br> https://www.cloudflare.com/learning/network-layer/what-is-a-protocol/\n",
    "33. Wikipedia. HTTP. (2024) </br> https://en.wikipedia.org/wiki/HTTPS#:~:text=This%20is%20the%20latest%20accepted,Hypertext%20Transfer%20Protocol%20(HTTP).\n",
    "34. Trai.ai. How do APIs work? (2024)   https://tray.ai/blog/how-do-apis-work\n",
    "35. w3schools. HTTP Status Messages. (2024) . </br>  https://www.w3schools.com/tags/ref_httpmessages.asp\n",
    "36. Postman. API authentication (2024)</br>  https://www.postman.com/api-platform/api-authentication/#:~:text=There%20are%20many%20types%20of,the%20API%20is%20not%20misused.\n",
    "37. frontegg. API Authentication and Authorization: 6 Methods and Tips for Success (2023) </br>  https://frontegg.com/guides/api-authentication-api-authorization#:~:text=Data%20security%3A%20By%20requiring%20authentication,access%2C%20theft%2C%20or%20misuse.\n",
    "38. mdn web docs_ HTTP response status codes (2024)</br>  https://developer.mozilla.org/en-US/docs/Web/HTTP/Status\n",
    "39. GeeksforGeeks. How to Change the Directory in Linux | cd Command (2024)</br>  https://www.geeksforgeeks.org/cd-command-in-linux-with-examples/\n",
    "40. GeeksforGeeks. Wget Command in Linux/Unix (2024)</br>  https://www.geeksforgeeks.org/wget-command-in-linux-unix/\n",
    "41. w3schools. JSON syntax. (2024) </br> https://www.w3schools.com/js/js_json_syntax.asp\n",
    "42. GeeksforGeeks. How to Format JSON in VSCode (2024)</br> https://www.geeksforgeeks.org/how-to-format-json-in-vscode/\n",
    "43. w3schools.HTTP Status Messages (2024) </br> https://www.w3schools.com/tags/ref_httpmessages.asp\n",
    "\n",
    "\n",
    "##### Markdown References\n",
    "- https://docs.document360.com/docs/how-to-change-the-color-of-the-text-in-markdown\n",
    "- https://www.markdownguide.org/hacks/#:~:text=If%20your%20Markdown%20processor%20supports,these%20words%20will%20be%20underlined%20.\n",
    "- https://www.markdownguide.org/basic-syntax/\n",
    "- https://www.codecademy.com/resources/docs/markdown/links\n",
    "- https://www.w3schools.io/file/markdown-super-sub-script/\n",
    "- https://dataplatform.cloud.ibm.com/docs/content/wsj/analyze-data/markd-jupyter.html?context=cpdaas\n",
    "- https://www.markdownguide.org/basic-syntax/\n",
    "- https://forum.squarespace.com/topic/231281-markdown-center-align-and-change-font-color/\n",
    "- https://www.markdownguide.org/extended-syntax/\n",
    "- codecademy. Images. (2022) </br> https://www.codecademy.com/resources/docs/markdown/images\n"
   ]
  },
  {
   "cell_type": "markdown",
   "metadata": {},
   "source": [
    "# **<span style=\"color:blue\">End</span>**\n",
    "***"
   ]
  }
 ],
 "metadata": {
  "kernelspec": {
   "display_name": "Python 3",
   "language": "python",
   "name": "python3"
  },
  "language_info": {
   "codemirror_mode": {
    "name": "ipython",
    "version": 3
   },
   "file_extension": ".py",
   "mimetype": "text/x-python",
   "name": "python",
   "nbconvert_exporter": "python",
   "pygments_lexer": "ipython3",
   "version": "3.12.1"
  }
 },
 "nbformat": 4,
 "nbformat_minor": 2
}
