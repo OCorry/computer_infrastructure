{
 "cells": [
  {
   "cell_type": "markdown",
   "metadata": {},
   "source": [
    "# **<span style=\"color:blue\">Introduction</span>**\n",
    "***\n",
    "\n",
    "This notebook contains a brief report or explanation of how I completed tasks 1 to 7 which are part of the completion of Module *Computer Infrastructure 2024*.\n",
    "\n",
    "I have used code which was provided throughout lectures by my lecturer Ian McLoughlin. I have also referenced all other sources that I have used for any other code I have adapted and any other research I have done throughout the notebook. These references are also provided in the references section at the end of this notebook.\n",
    "\n",
    "Before commencing, I have first imported any Libraries that I will need for the successful running and completion of the notebook."
   ]
  },
  {
   "cell_type": "markdown",
   "metadata": {},
   "source": [
    "## <ins><span style=\"color:blue\">Importing Libraries</span></ins>\n",
    "\n",
    "Using a *code* cell below, I have imported all of the relevant Libraries. Libraries are a collection of modules which are bundles of code that can be used again and again. This makes programming easier as the code doesn't need to be written out by the programmer as they are already available [GeeksforGeeks](https://www.geeksforgeeks.org/libraries-in-python/)<sup>1</sup>. Importing all of the libraries at the beginning of the notebook ensures that all of the code throughout the notebook runs smoothly and no errors are thrown."
   ]
  },
  {
   "cell_type": "code",
   "execution_count": 1,
   "metadata": {},
   "outputs": [],
   "source": [
    "# Importing Libraries\n",
    "\n",
    "# For working With Dataframes\n",
    "import pandas as pd"
   ]
  },
  {
   "cell_type": "markdown",
   "metadata": {},
   "source": [
    "## <ins><span style=\"color:blue\">Task 1</span></ins>\n",
    "\n",
    "\n",
    "> *Task 1: Create Directory Structure\n",
    "Using the command line, create a directory (that is, a folder) named `data` at the root of your repository. Inside `data`, create two subdirectories: `timestamps` and `weather`.*"
   ]
  },
  {
   "cell_type": "markdown",
   "metadata": {},
   "source": [
    "In the root of my repository titled [computer_infrastructure_2024](https://github.com/OCorry/computer_infrastructure_2024), on the Linux command line, I have created a directory (folder) called [data](https://github.com/OCorry/computer_infrastructure_2024/tree/main/data) and within that data directory I have created two subdirectories called [timestamps](https://github.com/OCorry/computer_infrastructure_2024/tree/main/data/timestamps) and [weather](https://github.com/OCorry/computer_infrastructure_2024/tree/main/data/weather). \n",
    "\n",
    "To do this, I have adapted code from [Sandra Henry Stocker, (2023)](https://www.networkworld.com/article/971782/creating-and-removing-directory-structures-on-linux.html#:~:text=Each%20group%20of%20directory%20names,being%20created%20at%20that%20level.&text=You%20can%20add%20as%20many,specifications%20to%20the%20mkdir%20command.)<sup>2</sup> and used the command: `mkdir -pv data/{timestamps,weather}`.\n",
    "\n",
    "\n",
    " The use of the `-p` after the `mkdir` allowed me to create the [hierarchy](https://en.wikipedia.org/wiki/Hierarchical_file_system)<sup>3</sup> of the parent directory `data` and the the two subdirectories `timestamps` and `weather` all at once rather than having to create the `data` directory first and then create the two subdirectories within it. This is a much more efficient approach, particularly if one is creating a large hierarchy of subdirectories nested within other directories. The `-v` is a verbose option which means that the directories that have been created will display in the terminal so the user can see the directories were created correctly.\n",
    "\n",
    " I sourced code from [Zaira Hira, FreeCodeCamp (2023)](https://www.freecodecamp.org/news/diagrams-as-code-with-mermaid-github-and-vs-code/)<sup>4</sup>, [jojozhuang](https://jojozhuang.github.io/tutorial/mermaid-cheat-sheet/)<sup>5</sup>, [marketplace.visualstudio](https://marketplace.visualstudio.com/items?itemName=CatBraaain.mermaid-comment#:~:text=Comment%20with%20%60%25%25%60%20for,lines%2C%20with%20a%20single%20command.&text=Launch%20VS%20Code%20Quick%20Open,following%20command%2C%20and%20press%20enter)<sup>6</sup> and [github.com (2015)](https://github.com/mermaid-js/mermaid/issues/213)<sup>7</sup> to create a visual representation of a hierarchy of directories and files. This visual representation can be found [here](./directory_hierarchy.md). The root directory **A** is the top-most tier of the of the hierarchy and is denoted by a `/` [Wikipedia, (2024)](https://en.wikipedia.org/wiki/Root_directory). From the root directory then, stems directory **B** and directory **C** which are subdirectories of the root directory **A**. Directory **B** & **C** are parent directories to directory **D** & **E** respectively but also contain files **A** & **B** respectively. Directories **D** & **E** are subdirectories of **B** & **C** respectively. Directory **D** contains two files called file **C** & file **D**. Directory **E** contains one file called file **E**."
   ]
  },
  {
   "cell_type": "markdown",
   "metadata": {},
   "source": [
    "## <span style=\"color:blue\">References</span>\n",
    "***\n",
    "\n",
    "##### Task 1\n",
    "1. GeeksforGeeks. Libraries in Python. 01 Aug, 2024 </br> https://www.geeksforgeeks.org/libraries-in-python/\n",
    "2. Sandra Henry Stocker. Netwrok World. Creating and removing directory structures on Linux (2023) </br> https://www.networkworld.com/article/971782/creating-and-removing-directory-structures-on-linux.html#:~:text=Each%20group%20of%20directory%20names,being%20created%20at%20that%20level.&text=You%20can%20add%20as%20many,specifications%20to%20the%20mkdir%20command.\n",
    "3. Wikipedia Hierarchical file system (2024) </br> https://en.wikipedia.org/wiki/Hierarchical_file_system\n",
    "4. Zaira Hira. How to Create Diagrams as Code with Mermaid, GitHub, and Visual Studio Code. (2023) </br> https://www.freecodecamp.org/news/diagrams-as-code-with-mermaid-github-and-vs-code/\n",
    "5. jojozhuang. 9724. Mermaid Cheat Sheet (2021) </br> https://jojozhuang.github.io/tutorial/mermaid-cheat-sheet/\n",
    "6. Visual Studio| Marketplace. Mermaid Comment (2024) </br> https://marketplace.visualstudio.com/items?itemName=CatBraaain.mermaid-comment#:~:text=Comment%20with%20%60%25%25%60%20for,lines%2C%20with%20a%20single%20command.&text=Launch%20VS%20Code%20Quick%20Open,following%20command%2C%20and%20press%20enter\n",
    "7. Github.com. Brackets in a node with text? (2015) </br> https://github.com/mermaid-js/mermaid/issues/213\n",
    "8. Wikipedia. Root Directory (2024). </br> https://en.wikipedia.org/wiki/Root_directory\n",
    "\n",
    "##### Markdown References\n",
    "- https://docs.document360.com/docs/how-to-change-the-color-of-the-text-in-markdown\n",
    "- https://www.markdownguide.org/hacks/#:~:text=If%20your%20Markdown%20processor%20supports,these%20words%20will%20be%20underlined%20.\n",
    "- https://www.markdownguide.org/basic-syntax/\n",
    "- https://www.codecademy.com/resources/docs/markdown/links\n",
    "- https://www.w3schools.io/file/markdown-super-sub-script/\n",
    "- https://dataplatform.cloud.ibm.com/docs/content/wsj/analyze-data/markd-jupyter.html?context=cpdaas\n",
    "- https://www.markdownguide.org/basic-syntax/\n",
    "- https://forum.squarespace.com/topic/231281-markdown-center-align-and-change-font-color/\n"
   ]
  },
  {
   "cell_type": "markdown",
   "metadata": {},
   "source": [
    "# **<span style=\"color:blue\">End</span>**\n",
    "***"
   ]
  }
 ],
 "metadata": {
  "kernelspec": {
   "display_name": "Python 3",
   "language": "python",
   "name": "python3"
  },
  "language_info": {
   "codemirror_mode": {
    "name": "ipython",
    "version": 3
   },
   "file_extension": ".py",
   "mimetype": "text/x-python",
   "name": "python",
   "nbconvert_exporter": "python",
   "pygments_lexer": "ipython3",
   "version": "3.12.1"
  }
 },
 "nbformat": 4,
 "nbformat_minor": 2
}
