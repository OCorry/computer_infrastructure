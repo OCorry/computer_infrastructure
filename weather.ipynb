{
 "cells": [
  {
   "cell_type": "markdown",
   "metadata": {},
   "source": [
    "# **<span style=\"color:blue\">Introduction</span>**\n",
    "***\n",
    "\n",
    "This notebook contains a brief report or explanation of how I completed tasks 1 to 7 which are part of the completion of Module *Computer Infrastructure 2024*.\n",
    "\n",
    "I have used code which was provided throughout lectures by my lecturer Ian McLoughlin. I have also referenced all other sources that I have used for any other code I have adapted and any other research I have done throughout the notebook. These references are also provided in the references section at the end of this notebook.\n",
    "\n",
    "Before commencing, I have first imported any Libraries that I will need for the successful running and completion of the notebook."
   ]
  },
  {
   "cell_type": "markdown",
   "metadata": {},
   "source": [
    "## <ins><span style=\"color:blue\">Importing Libraries</span></ins>\n",
    "\n",
    "Using a *code* cell below, I have imported all of the relevant Libraries. Libraries are a collection of modules which are bundles of code that can be used again and again. This makes programming easier as the code doesn't need to be written out by the programmer as they are already available [GeeksforGeeks](https://www.geeksforgeeks.org/libraries-in-python/)<sup>1</sup>. Importing all of the libraries at the beginning of the notebook ensures that all of the code throughout the notebook runs smoothly and no errors are thrown."
   ]
  },
  {
   "cell_type": "code",
   "execution_count": 2,
   "metadata": {},
   "outputs": [],
   "source": [
    "# Importing Libraries\n",
    "\n",
    "# For working With Dataframes\n",
    "import pandas as pd"
   ]
  },
  {
   "cell_type": "markdown",
   "metadata": {},
   "source": [
    "## <ins><span style=\"color:blue\">Task 1</span></ins>\n",
    "\n",
    "\n",
    "> *Task 1: Create Directory Structure\n",
    "Using the command line, create a directory (that is, a folder) named `data` at the root of your repository. Inside `data`, create two subdirectories: `timestamps` and `weather`.*"
   ]
  },
  {
   "cell_type": "markdown",
   "metadata": {},
   "source": [
    "##### <ins>Creating the Directory Structure</ins>\n",
    "\n",
    "In the root of my repository titled [computer_infrastructure_2024](https://github.com/OCorry/computer_infrastructure_2024), on the Linux command line, I have created a directory (folder) called [data](https://github.com/OCorry/computer_infrastructure_2024/tree/main/data) and within that data directory I have created two subdirectories called [timestamps](https://github.com/OCorry/computer_infrastructure_2024/tree/main/data/timestamps) and [weather](https://github.com/OCorry/computer_infrastructure_2024/tree/main/data/weather). \n",
    "\n",
    "To do this, I have adapted code from [Sandra Henry Stocker, (2023)](https://www.networkworld.com/article/971782/creating-and-removing-directory-structures-on-linux.html#:~:text=Each%20group%20of%20directory%20names,being%20created%20at%20that%20level.&text=You%20can%20add%20as%20many,specifications%20to%20the%20mkdir%20command.)<sup>2</sup> and used the command: `mkdir -pv data/{timestamps,weather}`.\n",
    "\n",
    "\n",
    " The use of the `-p` after the `mkdir` allowed me to create the [hierarchy](https://en.wikipedia.org/wiki/Hierarchical_file_system)<sup>3</sup> of the parent directory **data** and the the two subdirectories **timestamps** and **weather** all at once rather than having to create the **data** directory first and then create the two subdirectories within it. This is a much more efficient approach, particularly if one is creating a large hierarchy of subdirectories nested within other directories. The `-v` is a verbose option which means that the directories that have been created will display in the terminal so the user can see the directories were created correctly.\n",
    "\n",
    " I sourced code from [Zaira Hira, FreeCodeCamp (2023)](https://www.freecodecamp.org/news/diagrams-as-code-with-mermaid-github-and-vs-code/)<sup>4</sup>, [jojozhuang](https://jojozhuang.github.io/tutorial/mermaid-cheat-sheet/)<sup>5</sup>, [marketplace.visualstudio](https://marketplace.visualstudio.com/items?itemName=CatBraaain.mermaid-comment#:~:text=Comment%20with%20%60%25%25%60%20for,lines%2C%20with%20a%20single%20command.&text=Launch%20VS%20Code%20Quick%20Open,following%20command%2C%20and%20press%20enter)<sup>6</sup> and [github.com (2015)](https://github.com/mermaid-js/mermaid/issues/213)<sup>7</sup> to create a visual representation of a hierarchy of directories and files. This visual representation can be found [here](./directory_hierarchy.md). The root directory **A** is the top-most tier of the of the hierarchy and is denoted by a `/` [Wikipedia, (2024)](https://en.wikipedia.org/wiki/Root_directory)<sup>8</sup>. From the root directory then, stems directory **B** and directory **C** which are subdirectories of the root directory **A**. Directory **B** & **C** are parent directories to directory **D** & **E** respectively but also contain files **A** & **B** respectively. Directories **D** & **E** are subdirectories of **B** & **C** respectively. Directory **D** contains two files called file **C** & file **D**. Directory **E** contains one file called file **E**.\n",
    "\n",
    "\n",
    " ##### <ins>Pushing the Directory Structure to Github</ins>\n",
    "\n",
    " When it came to committing my changes to my Github repository and pushing them to Github, my changes would not push. This is because Git only tracks files and does not track empty directories [Foster. G (2024)](https://graphite.dev/guides/add-empty-dir)<sup>9</sup>, [GeeksforGeeks (2023)](https://www.geeksforgeeks.org/how-to-add-an-empty-directory-to-a-git-repository/)<sup>10</sup>. As a result, if a directory is created and a file is not inputted into it, the directory will just be ignores and it will not push up to Github.\n",
    "\n",
    " To overcome this, I found that creating a `.gitkeep` file in the **timestamps** and the **weather** directories [Parr. K (2021)](https://www.freecodecamp.org/news/what-is-gitkeep/)<sup>11</sup> would allow me to push up my changes to my Github repository. I used `touch .gitkeep` command to create the the *.gitkeep* file in each of the directories [GeeksforGeeks (2024)](https://www.geeksforgeeks.org/touch-command-in-linux-with-examples/#1-how-to-create-an-empty-files-by-using-touch-command-in-linux)<sup>12</sup>. This was just a temporary measure just to allow me to complete task 1. I later removed these files from the directories again once I had added other permanent files to them in following tasks. I did this by using the `rm .gitkeep` command [GeeksforGeeks (2024)](https://www.geeksforgeeks.org/rm-command-linux-examples/)<sup>13</sup>."
   ]
  },
  {
   "cell_type": "markdown",
   "metadata": {},
   "source": [
    "## <ins><span style=\"color:blue\">Task 2</span></ins>\n",
    "\n",
    "> *Navigate to the `data/timestamps` directory. Use the `date` command to output the current date and time, appending the output to a file named `now.txt`. Make sure to use the `>>` operator to append (not overwrite) the file. Repeat this step ten times, then use the `more` command to verify that `now.txt` has the expected content.*"
   ]
  },
  {
   "cell_type": "markdown",
   "metadata": {},
   "source": [
    "##### <ins>Navigating through the Directory Hierarchy</ins>\n",
    "\n",
    "In task one, I briefly outlined the process of creating a new file `.gitkeep` in my two directories; `timestamps` & `weather` but didn't go into detail as to how I navigated the directory hierarchy to find myself in said directories. Below, I explain how I have navigated through the directories using the Linux [Command Line Interface](https://en.wikipedia.org/wiki/Command-line_interface)<sup>14</sup>.\n",
    "\n",
    "The `cd` ([change directory](https://www.geeksforgeeks.org/cd-command-in-linux-with-examples/)) is used to move up and down the directory hierarchy. From the root directory (workspaces/computer_infrastructure_2024), in the command line i enter `cd data/timestamps/`to move into the `timestamps` directory. \n",
    "\n",
    "##### <ins>The **<span style=\"color:blue\">date</span>** command</ins>\n",
    "\n",
    "Once in the `timestamps` directory, in the command line, I have used the [date](https://www.geeksforgeeks.org/date-command-linux-examples/)<sup>15</sup> command to output the current date and time in the command line (terminal). This prints the date and time in the format: abbreviated day, abbreviated month name, then day of the month and the current time. The output also states that the time is [UTC](https://en.wikipedia.org/wiki/Coordinated_Universal_Time)<sup>16*</sup>. \n",
    "\n",
    "##### <ins>Appending the output of the **<span style=\"color:blue\">date</span>** command to a new file **<span style=\"color:blue\"> now.txt</span>**</ins>\n",
    "Rather than just showing the output of the `date` command in the command line, to append the output of the `date` command to the file `now.txt`, I have used the command `date >> now.txt`. The `date` part of the command generates the date as discussed above. The append redirect operator `>>` redirects the output of the `date` command into a new file called `now.txt`. If the `now.txt` file doesn't already exist, the command creates the new file. I have repeated this command 10 times in total and the 10 outputs are saved to the `now.txt` file. It is very important to use the `>>` here rather than a single redirect `>`. If the `>` is used, then it will overwrite all of the data that was in the file prior to running the command with the `>` operator [Damon Garn (2021)](https://www.redhat.com/en/blog/redirect-operators-bash#:~:text=The%20append%20%3E%3E%20operator%20adds%20the,uname%20%2Dr%20to%20the%20specifications.)<sup>17</sup>.\n",
    "\n",
    "\n",
    "\n",
    "##### <ins>The **<span style=\"color:blue\">more</span>** command</ins>\n",
    "To check that the `now.txt` file has the expected content of 10 time and date outputs, I have used the command `more now.txt`. This command shows the contents of the file in the command line. The `more` command filters through the file one screenful at a time. If the file is a lengthy one, pressing the space bar on the keyboard will open the next screen of content. The amount of content per screen is dependent on how big the user has made their command line interface [GeeksforGeeks](https://www.geeksforgeeks.org/more-command-in-linux-with-examples/)<sup>18</sup>.\n",
    "\n",
    "\n",
    "\n",
    "<ins>*UTC (Coordinated Universal Time)</ins>\n",
    "\n",
    "The Github Codespaces Virtual Machine works on UTC time and as a resulIt, it will output UTC time regardless of where in the world (what timezone) the user is in. If however, the user was using their own machine and were not located in UTC timezone, the command `date -u` can be used to generate UTC time and date. Using UTC is preferred practice over using local time as it avoids ambiguity and complexity associated with time zones [Basant Sahu (2023)](https://www.linkedin.com/pulse/best-practices-handling-date-time-software-development-basant-sahu/)<sup>19</sup> as it is a set time and is not affected by any changes in local time zones [Dan Chaffelson (2024)](https://www.tinybird.co/blog-posts/database-timestamps-timezones)<sup>20</sup>. Using UTC means that users from different time zones are working on a common ground in terms of time when working with data.\n"
   ]
  },
  {
   "cell_type": "markdown",
   "metadata": {},
   "source": [
    "## <span style=\"color:blue\">References</span>\n",
    "***\n",
    "\n",
    "##### Task 1\n",
    "1. GeeksforGeeks. Libraries in Python. 01 Aug, 2024 </br> https://www.geeksforgeeks.org/libraries-in-python/\n",
    "2. Sandra Henry Stocker. Netwrok World. Creating and removing directory structures on Linux (2023) </br> https://www.networkworld.com/article/971782/creating-and-removing-directory-structures-on-linux.html#:~:text=Each%20group%20of%20directory%20names,being%20created%20at%20that%20level.&text=You%20can%20add%20as%20many,specifications%20to%20the%20mkdir%20command.\n",
    "3. Wikipedia Hierarchical file system (2024) </br> https://en.wikipedia.org/wiki/Hierarchical_file_system\n",
    "4. Zaira Hira. How to Create Diagrams as Code with Mermaid, GitHub, and Visual Studio Code. (2023) </br> https://www.freecodecamp.org/news/diagrams-as-code-with-mermaid-github-and-vs-code/\n",
    "5. jojozhuang. 9724. Mermaid Cheat Sheet (2021) </br> https://jojozhuang.github.io/tutorial/mermaid-cheat-sheet/\n",
    "6. Visual Studio| Marketplace. Mermaid Comment (2024) </br> https://marketplace.visualstudio.com/items?itemName=CatBraaain.mermaid-comment#:~:text=Comment%20with%20%60%25%25%60%20for,lines%2C%20with%20a%20single%20command.&text=Launch%20VS%20Code%20Quick%20Open,following%20command%2C%20and%20press%20enter\n",
    "7. Github.com. Brackets in a node with text? (2015) </br> https://github.com/mermaid-js/mermaid/issues/213\n",
    "8. Wikipedia. Root Directory (2024). </br> https://en.wikipedia.org/wiki/Root_directory\n",
    "9. Foster. G. Graphite. How to add an empty directory in git (2024) </br> https://graphite.dev/guides/add-empty-dir\n",
    "10. GeeksforGeeks. How to Add an Empty Directory to a Git Repository? (2023) </br> https://www.geeksforgeeks.org/how-to-add-an-empty-directory-to-a-git-repository/\n",
    "11. Parr. K. freeCodeCamp. What is .gitkeep? How to Track and Push Empty Folders in Git (2021) </br> https://www.freecodecamp.org/news/what-is-gitkeep/\n",
    "12. GeeksforGeeks. How to Create an Empty File in Linux | Touch Command (2024) </br> https://www.geeksforgeeks.org/touch-command-in-linux-with-examples/\n",
    "13. GeeksforGeeks. rm command in Linux with examples (2024) </br> https://www.geeksforgeeks.org/rm-command-linux-examples/\n",
    "</br>\n",
    "\n",
    "##### Task 2\n",
    "14. Wikipedia. Command-line interface (2024) </br> https://en.wikipedia.org/wiki/Command-line_interface\n",
    "15. GeeksforGeeks. How to Display and Set Date and Time in Linux | date Command (2024) </br> https://www.geeksforgeeks.org/date-command-linux-examples/\n",
    "16. Wikipedia. Coordinated Universal Time (2024) </br> https://en.wikipedia.org/wiki/Coordinated_Universal_Time   \n",
    "17. Damon Garn. Red Hat Blog. Five ways to use redirect operators in Bash (2021) </br> https://www.redhat.com/en/blog/redirect-operators-bash#:~:text=The%20append%20%3E%3E%20operator%20adds%20the,uname%20%2Dr%20to%20the%20specifications.\n",
    "18. GeeksforGeeks more command in Linux with Examples (2024) </br> https://www.geeksforgeeks.org/more-command-in-linux-with-examples/\n",
    "19. Basant Sahu linkedin. Best Practices for Handling Date and Time in Software Development (2023) </br> https://www.linkedin.com/pulse/best-practices-handling-date-time-software-development-basant-sahu/\n",
    "20. Dan Chaffelson. tinybird. Best practices for timestamps and time zones in databases (2024) </br> https://www.tinybird.co/blog-posts/database-timestamps-timezones\n",
    "\n",
    "\n",
    "##### Markdown References\n",
    "- https://docs.document360.com/docs/how-to-change-the-color-of-the-text-in-markdown\n",
    "- https://www.markdownguide.org/hacks/#:~:text=If%20your%20Markdown%20processor%20supports,these%20words%20will%20be%20underlined%20.\n",
    "- https://www.markdownguide.org/basic-syntax/\n",
    "- https://www.codecademy.com/resources/docs/markdown/links\n",
    "- https://www.w3schools.io/file/markdown-super-sub-script/\n",
    "- https://dataplatform.cloud.ibm.com/docs/content/wsj/analyze-data/markd-jupyter.html?context=cpdaas\n",
    "- https://www.markdownguide.org/basic-syntax/\n",
    "- https://forum.squarespace.com/topic/231281-markdown-center-align-and-change-font-color/\n"
   ]
  },
  {
   "cell_type": "markdown",
   "metadata": {},
   "source": [
    "# **<span style=\"color:blue\">End</span>**\n",
    "***"
   ]
  }
 ],
 "metadata": {
  "kernelspec": {
   "display_name": "Python 3",
   "language": "python",
   "name": "python3"
  },
  "language_info": {
   "codemirror_mode": {
    "name": "ipython",
    "version": 3
   },
   "file_extension": ".py",
   "mimetype": "text/x-python",
   "name": "python",
   "nbconvert_exporter": "python",
   "pygments_lexer": "ipython3",
   "version": "3.12.1"
  }
 },
 "nbformat": 4,
 "nbformat_minor": 2
}
